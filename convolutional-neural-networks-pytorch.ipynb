{
 "cells": [
  {
   "cell_type": "code",
   "execution_count": 1,
   "id": "4fcdd33f",
   "metadata": {
    "_cell_guid": "b1076dfc-b9ad-4769-8c92-a6c4dae69d19",
    "_uuid": "8f2839f25d086af736a60e9eeb907d3b93b6e0e5",
    "execution": {
     "iopub.execute_input": "2021-11-30T10:12:40.450490Z",
     "iopub.status.busy": "2021-11-30T10:12:40.448962Z",
     "iopub.status.idle": "2021-11-30T10:12:40.460212Z",
     "shell.execute_reply": "2021-11-30T10:12:40.458408Z",
     "shell.execute_reply.started": "2021-11-14T17:25:19.05757Z"
    },
    "papermill": {
     "duration": 0.027278,
     "end_time": "2021-11-30T10:12:40.460459",
     "exception": true,
     "start_time": "2021-11-30T10:12:40.433181",
     "status": "failed"
    },
    "tags": []
   },
   "outputs": [
    {
     "ename": "SyntaxError",
     "evalue": "invalid syntax (3604778335.py, line 13)",
     "output_type": "error",
     "traceback": [
      "\u001b[0;36m  File \u001b[0;32m\"/tmp/ipykernel_24/3604778335.py\"\u001b[0;36m, line \u001b[0;32m13\u001b[0m\n\u001b[0;31m    pd.options.plotting.backend = \"plotly\"g\u001b[0m\n\u001b[0m                                          ^\u001b[0m\n\u001b[0;31mSyntaxError\u001b[0m\u001b[0;31m:\u001b[0m invalid syntax\n"
     ]
    }
   ],
   "source": [
    "import numpy as np\n",
    "import pandas as pd\n",
    "import torch\n",
    "import os\n",
    "import matplotlib.pyplot as plt\n",
    "import torch.nn.functional as F \n",
    "from torch import nn,optim\n",
    "from torchvision import transforms as T,datasets,models\n",
    "from torchvision.utils import make_grid\n",
    "from torch.utils.data import DataLoader\n",
    "from collections import OrderedDict\n",
    "from tqdm import tqdm\n",
    "pd.options.plotting.backend = \"plotly\"g\n",
    "from torch import nn, optim\n",
    "from torch.autograd import Variable\n",
    "\n"
   ]
  },
  {
   "cell_type": "code",
   "execution_count": null,
   "id": "c3f61aa1",
   "metadata": {
    "execution": {
     "iopub.execute_input": "2021-11-14T17:25:21.143998Z",
     "iopub.status.busy": "2021-11-14T17:25:21.143643Z",
     "iopub.status.idle": "2021-11-14T17:25:21.152688Z",
     "shell.execute_reply": "2021-11-14T17:25:21.151505Z",
     "shell.execute_reply.started": "2021-11-14T17:25:21.143949Z"
    },
    "papermill": {
     "duration": null,
     "end_time": null,
     "exception": null,
     "start_time": null,
     "status": "pending"
    },
    "tags": []
   },
   "outputs": [],
   "source": [
    "def data_transforms(phase = None):\n",
    "    \n",
    "    if phase == TRAIN:\n",
    "\n",
    "        data_T = T.Compose([\n",
    "            \n",
    "                T.Resize(size = (256,256)),\n",
    "                T.RandomRotation(degrees = (-20,+20)),\n",
    "                T.CenterCrop(size=224),\n",
    "                T.ToTensor(),\n",
    "                T.Normalize([0.485, 0.456, 0.406],[0.229, 0.224, 0.225])\n",
    "        ])\n",
    "    \n",
    "    elif phase == TEST or phase == VAL:\n",
    "\n",
    "        data_T = T.Compose([\n",
    "\n",
    "                T.Resize(size = (224,224)),\n",
    "                T.ToTensor(),\n",
    "                T.Normalize([0.485, 0.456, 0.406],[0.229, 0.224, 0.225])\n",
    "        ])\n",
    "        \n",
    "    return data_T"
   ]
  },
  {
   "cell_type": "code",
   "execution_count": null,
   "id": "d3c56469",
   "metadata": {
    "execution": {
     "iopub.execute_input": "2021-11-14T17:25:21.155318Z",
     "iopub.status.busy": "2021-11-14T17:25:21.154637Z",
     "iopub.status.idle": "2021-11-14T17:25:24.130046Z",
     "shell.execute_reply": "2021-11-14T17:25:24.128996Z",
     "shell.execute_reply.started": "2021-11-14T17:25:21.155269Z"
    },
    "papermill": {
     "duration": null,
     "end_time": null,
     "exception": null,
     "start_time": null,
     "status": "pending"
    },
    "tags": []
   },
   "outputs": [],
   "source": [
    "data_dir = \"../input/chest-xray-pneumonia/chest_xray/chest_xray\"\n",
    "TEST = 'test'\n",
    "TRAIN = 'train'\n",
    "VAL ='val'\n",
    "\n",
    "trainset = datasets.ImageFolder(os.path.join(data_dir, TRAIN),transform = data_transforms(TRAIN))\n",
    "testset = datasets.ImageFolder(os.path.join(data_dir, TEST),transform = data_transforms(TEST))\n",
    "validset = datasets.ImageFolder(os.path.join(data_dir, VAL),transform = data_transforms(VAL))"
   ]
  },
  {
   "cell_type": "code",
   "execution_count": null,
   "id": "acc7dfa7",
   "metadata": {
    "execution": {
     "iopub.execute_input": "2021-11-14T17:25:24.133229Z",
     "iopub.status.busy": "2021-11-14T17:25:24.13292Z",
     "iopub.status.idle": "2021-11-14T17:25:24.139328Z",
     "shell.execute_reply": "2021-11-14T17:25:24.138338Z",
     "shell.execute_reply.started": "2021-11-14T17:25:24.133187Z"
    },
    "papermill": {
     "duration": null,
     "end_time": null,
     "exception": null,
     "start_time": null,
     "status": "pending"
    },
    "tags": []
   },
   "outputs": [],
   "source": [
    "class_names = trainset.classes\n",
    "print(class_names)\n",
    "print(trainset.class_to_idx)"
   ]
  },
  {
   "cell_type": "code",
   "execution_count": null,
   "id": "5b985a8b",
   "metadata": {
    "execution": {
     "iopub.execute_input": "2021-11-14T17:25:24.141956Z",
     "iopub.status.busy": "2021-11-14T17:25:24.14124Z",
     "iopub.status.idle": "2021-11-14T17:25:26.488789Z",
     "shell.execute_reply": "2021-11-14T17:25:26.487713Z",
     "shell.execute_reply.started": "2021-11-14T17:25:24.141909Z"
    },
    "papermill": {
     "duration": null,
     "end_time": null,
     "exception": null,
     "start_time": null,
     "status": "pending"
    },
    "tags": []
   },
   "outputs": [],
   "source": [
    "trainloader = DataLoader(trainset,batch_size = 64,shuffle = True)\n",
    "validloader = DataLoader(validset,batch_size = 64,shuffle = True)\n",
    "testloader = DataLoader(testset,batch_size = 64,shuffle = True)\n",
    "\n",
    "images, labels = iter(trainloader).next()\n",
    "print(images.shape)\n",
    "print(labels.shape)"
   ]
  },
  {
   "cell_type": "code",
   "execution_count": null,
   "id": "6682c12c",
   "metadata": {
    "execution": {
     "iopub.execute_input": "2021-11-14T17:25:26.490962Z",
     "iopub.status.busy": "2021-11-14T17:25:26.490619Z",
     "iopub.status.idle": "2021-11-14T17:28:04.149818Z",
     "shell.execute_reply": "2021-11-14T17:28:04.148837Z",
     "shell.execute_reply.started": "2021-11-14T17:25:26.490902Z"
    },
    "papermill": {
     "duration": null,
     "end_time": null,
     "exception": null,
     "start_time": null,
     "status": "pending"
    },
    "tags": []
   },
   "outputs": [],
   "source": [
    "\n",
    "for i, (images,labels) in enumerate(trainloader):\n",
    "        if torch.cuda.is_available():\n",
    "            images=Variable(images.cuda())\n",
    "            labels=Variable(labels.cuda())"
   ]
  },
  {
   "cell_type": "code",
   "execution_count": null,
   "id": "60eb258e",
   "metadata": {
    "execution": {
     "iopub.execute_input": "2021-11-14T17:28:04.151924Z",
     "iopub.status.busy": "2021-11-14T17:28:04.151619Z",
     "iopub.status.idle": "2021-11-14T17:28:04.163344Z",
     "shell.execute_reply": "2021-11-14T17:28:04.162105Z",
     "shell.execute_reply.started": "2021-11-14T17:28:04.15188Z"
    },
    "papermill": {
     "duration": null,
     "end_time": null,
     "exception": null,
     "start_time": null,
     "status": "pending"
    },
    "tags": []
   },
   "outputs": [],
   "source": [
    "images.shape, labels.shape"
   ]
  },
  {
   "cell_type": "code",
   "execution_count": null,
   "id": "f0f3c699",
   "metadata": {
    "execution": {
     "iopub.execute_input": "2021-11-14T17:28:04.165723Z",
     "iopub.status.busy": "2021-11-14T17:28:04.165204Z",
     "iopub.status.idle": "2021-11-14T17:28:04.183795Z",
     "shell.execute_reply": "2021-11-14T17:28:04.182719Z",
     "shell.execute_reply.started": "2021-11-14T17:28:04.165676Z"
    },
    "papermill": {
     "duration": null,
     "end_time": null,
     "exception": null,
     "start_time": null,
     "status": "pending"
    },
    "tags": []
   },
   "outputs": [],
   "source": [
    "\n",
    "class classify(nn.Module):\n",
    "    def __init__(self,num_classes=2):\n",
    "        super(classify,self).__init__()\n",
    "        \n",
    "         \n",
    "        self.conv1=nn.Conv2d(in_channels=3, out_channels=12, kernel_size=3, stride=1, padding=1)\n",
    "        \n",
    "        self.bn1=nn.BatchNorm2d(num_features=12)\n",
    "        self.relu1=nn.ReLU()        \n",
    "        self.pool=nn.MaxPool2d(kernel_size=2)\n",
    "        self.conv2=nn.Conv2d(in_channels=12,out_channels=20,kernel_size=3,stride=1,padding=1)\n",
    "        self.relu2=nn.ReLU()\n",
    "        self.conv3=nn.Conv2d(in_channels=20,out_channels=32,kernel_size=3,stride=1,padding=1)\n",
    "        self.bn3=nn.BatchNorm2d(num_features=32)\n",
    "        self.relu3=nn.ReLU()\n",
    "        self.fc=nn.Linear(in_features=32 * 112 * 112,out_features=num_classes)\n",
    "        \n",
    "        \n",
    "        \n",
    "        #Feed forwad function\n",
    "        \n",
    "    def forward(self,input):\n",
    "        output=self.conv1(input)\n",
    "        output=self.bn1(output)\n",
    "        output=self.relu1(output)\n",
    "        output=self.pool(output)\n",
    "        output=self.conv2(output)\n",
    "        output=self.relu2(output)\n",
    "        output=self.conv3(output)\n",
    "        output=self.bn3(output)\n",
    "        output=self.relu3(output)            \n",
    "        output=output.view(-1,32*112*112)\n",
    "        output=self.fc(output)\n",
    "            \n",
    "        return output\n",
    "    \n",
    "device=torch.device('cuda' if torch.cuda.is_available() else 'cpu')\n"
   ]
  },
  {
   "cell_type": "code",
   "execution_count": null,
   "id": "87963a0e",
   "metadata": {
    "execution": {
     "iopub.execute_input": "2021-11-14T17:28:04.186296Z",
     "iopub.status.busy": "2021-11-14T17:28:04.185481Z",
     "iopub.status.idle": "2021-11-14T17:28:21.862955Z",
     "shell.execute_reply": "2021-11-14T17:28:21.86188Z",
     "shell.execute_reply.started": "2021-11-14T17:28:04.186229Z"
    },
    "papermill": {
     "duration": null,
     "end_time": null,
     "exception": null,
     "start_time": null,
     "status": "pending"
    },
    "tags": []
   },
   "outputs": [],
   "source": [
    "!pip install torchsummary\n",
    "from torchsummary import summary\n",
    "summary(classify().cuda(), (images.shape[1], images.shape[2], images.shape[3]))\n",
    "\n"
   ]
  },
  {
   "cell_type": "code",
   "execution_count": null,
   "id": "6fafb6e2",
   "metadata": {
    "execution": {
     "iopub.execute_input": "2021-11-14T17:28:21.867249Z",
     "iopub.status.busy": "2021-11-14T17:28:21.866974Z",
     "iopub.status.idle": "2021-11-14T17:28:21.887414Z",
     "shell.execute_reply": "2021-11-14T17:28:21.886451Z",
     "shell.execute_reply.started": "2021-11-14T17:28:21.867217Z"
    },
    "papermill": {
     "duration": null,
     "end_time": null,
     "exception": null,
     "start_time": null,
     "status": "pending"
    },
    "tags": []
   },
   "outputs": [],
   "source": [
    "model = classify()\n",
    "# defining the optimizer\n",
    "optimizer = optim.Adam(model.parameters(), lr=0.01)\n",
    "# defining the loss function\n",
    "criterion = nn.CrossEntropyLoss()\n",
    "# checking if GPU is available\n",
    "if torch.cuda.is_available():\n",
    "    model = model.cuda()\n",
    "    criterion = criterion.cuda()\n",
    "    \n"
   ]
  },
  {
   "cell_type": "code",
   "execution_count": null,
   "id": "b4b66135",
   "metadata": {
    "execution": {
     "iopub.execute_input": "2021-11-14T17:28:21.88952Z",
     "iopub.status.busy": "2021-11-14T17:28:21.889149Z",
     "iopub.status.idle": "2021-11-14T17:46:31.957212Z",
     "shell.execute_reply": "2021-11-14T17:46:31.955192Z",
     "shell.execute_reply.started": "2021-11-14T17:28:21.889474Z"
    },
    "papermill": {
     "duration": null,
     "end_time": null,
     "exception": null,
     "start_time": null,
     "status": "pending"
    },
    "tags": []
   },
   "outputs": [],
   "source": [
    "Losses = []\n",
    "for i in range(10):\n",
    "    running_loss = 0\n",
    "    for images, labels in trainloader:\n",
    "        \n",
    "        #Changing images to cuda for gpu\n",
    "        if torch.cuda.is_available():\n",
    "          images = images.cuda()\n",
    "          labels = labels.cuda()\n",
    "\n",
    "        # Training pass\n",
    "        # Sets the gradient to zero\n",
    "        optimizer.zero_grad()\n",
    "        \n",
    "        output = model(images)\n",
    "        loss = criterion(output, labels)\n",
    "        \n",
    "        #This is where the model learns by backpropagating\n",
    "        # accumulates the loss for mini batch\n",
    "        loss.backward()\n",
    "        \n",
    "        #And optimizes its weights here\n",
    "        optimizer.step()\n",
    "        Losses.append(loss)\n",
    "        \n",
    "        running_loss += loss.item()\n",
    "    else:\n",
    "        print(\"Epoch {} - Training loss: {}\".format(i+1, running_loss/len(trainloader)))"
   ]
  },
  {
   "cell_type": "code",
   "execution_count": null,
   "id": "0c604230",
   "metadata": {
    "execution": {
     "iopub.execute_input": "2021-11-14T17:46:31.959351Z",
     "iopub.status.busy": "2021-11-14T17:46:31.9589Z",
     "iopub.status.idle": "2021-11-14T17:46:48.442385Z",
     "shell.execute_reply": "2021-11-14T17:46:48.441316Z",
     "shell.execute_reply.started": "2021-11-14T17:46:31.959302Z"
    },
    "papermill": {
     "duration": null,
     "end_time": null,
     "exception": null,
     "start_time": null,
     "status": "pending"
    },
    "tags": []
   },
   "outputs": [],
   "source": [
    "correct_count, all_count = 0, 0\n",
    "for images,labels in testloader:\n",
    "  for i in range(len(labels)):\n",
    "    if torch.cuda.is_available():\n",
    "        images = images.cuda()\n",
    "        labels = labels.cuda()\n",
    "    img = images[i].view(1, 3, 224, 224)\n",
    "    with torch.no_grad():\n",
    "        logps = model(img)\n",
    "\n",
    "    \n",
    "    ps = torch.exp(logps)\n",
    "    probab = list(ps.cpu()[0])\n",
    "    pred_label = probab.index(max(probab))\n",
    "    true_label = labels.cpu()[i]\n",
    "    if(true_label == pred_label):\n",
    "      correct_count += 1\n",
    "    all_count += 1\n",
    "\n",
    "print(\"Number Of Images Tested =\", all_count)\n",
    "print(\"\\nModel Accuracy =\", (correct_count/all_count))"
   ]
  }
 ],
 "metadata": {
  "kernelspec": {
   "display_name": "Python 3",
   "language": "python",
   "name": "python3"
  },
  "language_info": {
   "codemirror_mode": {
    "name": "ipython",
    "version": 3
   },
   "file_extension": ".py",
   "mimetype": "text/x-python",
   "name": "python",
   "nbconvert_exporter": "python",
   "pygments_lexer": "ipython3",
   "version": "3.7.10"
  },
  "papermill": {
   "default_parameters": {},
   "duration": 7.602962,
   "end_time": "2021-11-30T10:12:40.878938",
   "environment_variables": {},
   "exception": true,
   "input_path": "__notebook__.ipynb",
   "output_path": "__notebook__.ipynb",
   "parameters": {},
   "start_time": "2021-11-30T10:12:33.275976",
   "version": "2.3.3"
  }
 },
 "nbformat": 4,
 "nbformat_minor": 5
}
